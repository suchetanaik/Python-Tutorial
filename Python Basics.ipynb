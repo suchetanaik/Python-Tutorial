{
 "cells": [
  {
   "cell_type": "markdown",
   "id": "9a695d88",
   "metadata": {},
   "source": [
    "# Basics of Python\n"
   ]
  },
  {
   "cell_type": "markdown",
   "id": "a2b9d6a6",
   "metadata": {},
   "source": [
    "## Various Data Types in Python"
   ]
  },
  {
   "cell_type": "code",
   "execution_count": 1,
   "id": "ce40163f",
   "metadata": {},
   "outputs": [
    {
     "data": {
      "text/plain": [
       "2"
      ]
     },
     "execution_count": 1,
     "metadata": {},
     "output_type": "execute_result"
    }
   ],
   "source": [
    "1+1"
   ]
  },
  {
   "cell_type": "code",
   "execution_count": 2,
   "id": "37e15768",
   "metadata": {},
   "outputs": [
    {
     "data": {
      "text/plain": [
       "40"
      ]
     },
     "execution_count": 2,
     "metadata": {},
     "output_type": "execute_result"
    }
   ],
   "source": [
    "50-10"
   ]
  },
  {
   "cell_type": "code",
   "execution_count": 3,
   "id": "c2aa7b96",
   "metadata": {},
   "outputs": [
    {
     "data": {
      "text/plain": [
       "84"
      ]
     },
     "execution_count": 3,
     "metadata": {},
     "output_type": "execute_result"
    }
   ],
   "source": [
    "14*6"
   ]
  },
  {
   "cell_type": "code",
   "execution_count": 4,
   "id": "7be929a4",
   "metadata": {},
   "outputs": [
    {
     "data": {
      "text/plain": [
       "6.0"
      ]
     },
     "execution_count": 4,
     "metadata": {},
     "output_type": "execute_result"
    }
   ],
   "source": [
    "42/7"
   ]
  },
  {
   "cell_type": "code",
   "execution_count": 5,
   "id": "e6b5e0ec",
   "metadata": {},
   "outputs": [
    {
     "data": {
      "text/plain": [
       "0"
      ]
     },
     "execution_count": 5,
     "metadata": {},
     "output_type": "execute_result"
    }
   ],
   "source": [
    "42%7"
   ]
  },
  {
   "cell_type": "code",
   "execution_count": 6,
   "id": "f8a3ed2a",
   "metadata": {},
   "outputs": [
    {
     "data": {
      "text/plain": [
       "45212176"
      ]
     },
     "execution_count": 6,
     "metadata": {},
     "output_type": "execute_result"
    }
   ],
   "source": [
    "82**4"
   ]
  },
  {
   "cell_type": "code",
   "execution_count": 7,
   "id": "a89736f5",
   "metadata": {},
   "outputs": [],
   "source": [
    "# Check the datatype using Inbuilt function"
   ]
  },
  {
   "cell_type": "code",
   "execution_count": 8,
   "id": "782e6c87",
   "metadata": {},
   "outputs": [
    {
     "data": {
      "text/plain": [
       "int"
      ]
     },
     "execution_count": 8,
     "metadata": {},
     "output_type": "execute_result"
    }
   ],
   "source": [
    "type(1)"
   ]
  },
  {
   "cell_type": "code",
   "execution_count": 9,
   "id": "9515eead",
   "metadata": {},
   "outputs": [
    {
     "data": {
      "text/plain": [
       "float"
      ]
     },
     "execution_count": 9,
     "metadata": {},
     "output_type": "execute_result"
    }
   ],
   "source": [
    "type(2.0)"
   ]
  },
  {
   "cell_type": "code",
   "execution_count": 10,
   "id": "97586f49",
   "metadata": {},
   "outputs": [
    {
     "data": {
      "text/plain": [
       "bool"
      ]
     },
     "execution_count": 10,
     "metadata": {},
     "output_type": "execute_result"
    }
   ],
   "source": [
    "type(True)"
   ]
  },
  {
   "cell_type": "code",
   "execution_count": 11,
   "id": "ae32bf83",
   "metadata": {},
   "outputs": [
    {
     "data": {
      "text/plain": [
       "bool"
      ]
     },
     "execution_count": 11,
     "metadata": {},
     "output_type": "execute_result"
    }
   ],
   "source": [
    "type(False)"
   ]
  },
  {
   "cell_type": "code",
   "execution_count": 12,
   "id": "b856f385",
   "metadata": {},
   "outputs": [
    {
     "data": {
      "text/plain": [
       "str"
      ]
     },
     "execution_count": 12,
     "metadata": {},
     "output_type": "execute_result"
    }
   ],
   "source": [
    "type(\"Hello\")"
   ]
  },
  {
   "cell_type": "code",
   "execution_count": 14,
   "id": "9769d819",
   "metadata": {},
   "outputs": [
    {
     "data": {
      "text/plain": [
       "list"
      ]
     },
     "execution_count": 14,
     "metadata": {},
     "output_type": "execute_result"
    }
   ],
   "source": [
    "type([1,3,5,7,\"Hello\"])"
   ]
  },
  {
   "cell_type": "code",
   "execution_count": 15,
   "id": "68c089a4",
   "metadata": {},
   "outputs": [
    {
     "data": {
      "text/plain": [
       "tuple"
      ]
     },
     "execution_count": 15,
     "metadata": {},
     "output_type": "execute_result"
    }
   ],
   "source": [
    "type((1,3,5,7,\"Hello\"))"
   ]
  },
  {
   "cell_type": "code",
   "execution_count": 26,
   "id": "5acf319a",
   "metadata": {},
   "outputs": [
    {
     "data": {
      "text/plain": [
       "dict"
      ]
     },
     "execution_count": 26,
     "metadata": {},
     "output_type": "execute_result"
    }
   ],
   "source": [
    "type({'name': 'Sucheta','surname': 'Naik'})"
   ]
  },
  {
   "cell_type": "code",
   "execution_count": 19,
   "id": "c335cbe9",
   "metadata": {},
   "outputs": [
    {
     "data": {
      "text/plain": [
       "set"
      ]
     },
     "execution_count": 19,
     "metadata": {},
     "output_type": "execute_result"
    }
   ],
   "source": [
    "type({1,4,2,\"Hello,(76,42)\"})"
   ]
  },
  {
   "cell_type": "markdown",
   "id": "bbf05503",
   "metadata": {},
   "source": [
    "## Strings"
   ]
  },
  {
   "cell_type": "code",
   "execution_count": 20,
   "id": "3ef14e11",
   "metadata": {},
   "outputs": [
    {
     "data": {
      "text/plain": [
       "str"
      ]
     },
     "execution_count": 20,
     "metadata": {},
     "output_type": "execute_result"
    }
   ],
   "source": [
    "\"Hello\"\n",
    "type(\"Hello\")"
   ]
  },
  {
   "cell_type": "code",
   "execution_count": 21,
   "id": "9ab2d090",
   "metadata": {},
   "outputs": [
    {
     "data": {
      "text/plain": [
       "str"
      ]
     },
     "execution_count": 21,
     "metadata": {},
     "output_type": "execute_result"
    }
   ],
   "source": [
    "'Namaste'\n",
    "type('Namaste')"
   ]
  },
  {
   "cell_type": "markdown",
   "id": "dbd14a6d",
   "metadata": {},
   "source": [
    "## Variable Assignment"
   ]
  },
  {
   "cell_type": "code",
   "execution_count": 22,
   "id": "5db49ea0",
   "metadata": {},
   "outputs": [
    {
     "data": {
      "text/plain": [
       "int"
      ]
     },
     "execution_count": 22,
     "metadata": {},
     "output_type": "execute_result"
    }
   ],
   "source": [
    "# Syntax\n",
    "# var_name = values\n",
    "\n",
    "a= 10\n",
    "type(a)"
   ]
  },
  {
   "cell_type": "code",
   "execution_count": 23,
   "id": "15d3ddc4",
   "metadata": {},
   "outputs": [
    {
     "data": {
      "text/plain": [
       "str"
      ]
     },
     "execution_count": 23,
     "metadata": {},
     "output_type": "execute_result"
    }
   ],
   "source": [
    "a= \"Hi\"\n",
    "type(a)"
   ]
  },
  {
   "cell_type": "code",
   "execution_count": 24,
   "id": "6943a68f",
   "metadata": {},
   "outputs": [
    {
     "name": "stdout",
     "output_type": "stream",
     "text": [
      "46\n",
      "34\n",
      "240\n",
      "6.666666666666667\n",
      "4\n",
      "246.66666666666666\n"
     ]
    }
   ],
   "source": [
    "## Mathematical Operation with Variable Assignment\n",
    "\n",
    "a = 40\n",
    "b = 6\n",
    "\n",
    "print(a+b)\n",
    "print(a-b)\n",
    "print(a*b)\n",
    "print(a/b)\n",
    "print(a%b)\n",
    "print((a*b)+(a/b))  ##BODMAS Rules"
   ]
  },
  {
   "cell_type": "code",
   "execution_count": 25,
   "id": "fa83da7c",
   "metadata": {},
   "outputs": [
    {
     "data": {
      "text/plain": [
       "<function print>"
      ]
     },
     "execution_count": 25,
     "metadata": {},
     "output_type": "execute_result"
    }
   ],
   "source": [
    "## Various ways of Printing"
   ]
  },
  {
   "cell_type": "code",
   "execution_count": 27,
   "id": "c07ee87a",
   "metadata": {},
   "outputs": [
    {
     "name": "stdout",
     "output_type": "stream",
     "text": [
      "This is Python Tutorial\n"
     ]
    }
   ],
   "source": [
    "print(\"This is Python Tutorial\")"
   ]
  },
  {
   "cell_type": "code",
   "execution_count": 32,
   "id": "d690d7b5",
   "metadata": {},
   "outputs": [
    {
     "name": "stdout",
     "output_type": "stream",
     "text": [
      "My first name is Sucheta and last name is Naik\n",
      "My first name is Sucheta and last name is Naik\n"
     ]
    }
   ],
   "source": [
    "first_name = \"Sucheta\"\n",
    "last_name = \"Naik\"\n",
    "\n",
    "print(\"My first name is {} and last name is {}\" .format(first_name,last_name))\n",
    "print(\"My first name is {first} and last name is {last}\" .format(first=first_name,last=last_name))"
   ]
  },
  {
   "cell_type": "code",
   "execution_count": null,
   "id": "79a748ba",
   "metadata": {},
   "outputs": [],
   "source": [
    "## Find length"
   ]
  },
  {
   "cell_type": "code",
   "execution_count": 33,
   "id": "3280bbfb",
   "metadata": {},
   "outputs": [
    {
     "data": {
      "text/plain": [
       "7"
      ]
     },
     "execution_count": 33,
     "metadata": {},
     "output_type": "execute_result"
    }
   ],
   "source": [
    "len(\"Sucheta\")"
   ]
  }
 ],
 "metadata": {
  "kernelspec": {
   "display_name": "Python 3",
   "language": "python",
   "name": "python3"
  },
  "language_info": {
   "codemirror_mode": {
    "name": "ipython",
    "version": 3
   },
   "file_extension": ".py",
   "mimetype": "text/x-python",
   "name": "python",
   "nbconvert_exporter": "python",
   "pygments_lexer": "ipython3",
   "version": "3.8.8"
  }
 },
 "nbformat": 4,
 "nbformat_minor": 5
}
