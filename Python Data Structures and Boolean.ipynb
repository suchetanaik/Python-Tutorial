{
 "cells": [
  {
   "cell_type": "markdown",
   "id": "0c35ee8a",
   "metadata": {},
   "source": [
    "# Python Data Structures and Boolean"
   ]
  },
  {
   "cell_type": "code",
   "execution_count": 2,
   "id": "556b5ef2",
   "metadata": {},
   "outputs": [
    {
     "data": {
      "text/plain": [
       "True"
      ]
     },
     "execution_count": 2,
     "metadata": {},
     "output_type": "execute_result"
    }
   ],
   "source": [
    "bool(1)"
   ]
  },
  {
   "cell_type": "code",
   "execution_count": 3,
   "id": "1a97807a",
   "metadata": {},
   "outputs": [
    {
     "data": {
      "text/plain": [
       "False"
      ]
     },
     "execution_count": 3,
     "metadata": {},
     "output_type": "execute_result"
    }
   ],
   "source": [
    "bool()"
   ]
  },
  {
   "cell_type": "code",
   "execution_count": 4,
   "id": "dd91b81e",
   "metadata": {},
   "outputs": [
    {
     "data": {
      "text/plain": [
       "bool"
      ]
     },
     "execution_count": 4,
     "metadata": {},
     "output_type": "execute_result"
    }
   ],
   "source": [
    "type(True)"
   ]
  },
  {
   "cell_type": "code",
   "execution_count": 5,
   "id": "d91944c0",
   "metadata": {},
   "outputs": [
    {
     "data": {
      "text/plain": [
       "bool"
      ]
     },
     "execution_count": 5,
     "metadata": {},
     "output_type": "execute_result"
    }
   ],
   "source": [
    "type(False)"
   ]
  },
  {
   "cell_type": "code",
   "execution_count": 15,
   "id": "db7428e8",
   "metadata": {},
   "outputs": [],
   "source": [
    "my_str1 = \"Sucheta Naik\""
   ]
  },
  {
   "cell_type": "markdown",
   "id": "0b6b47dc",
   "metadata": {},
   "source": [
    "Types of boolean functions"
   ]
  },
  {
   "cell_type": "code",
   "execution_count": 16,
   "id": "9af9f666",
   "metadata": {},
   "outputs": [
    {
     "name": "stdout",
     "output_type": "stream",
     "text": [
      "False\n",
      "False\n",
      "False\n",
      "True\n",
      "False\n",
      "False\n",
      "False\n",
      "False\n",
      "True\n"
     ]
    }
   ],
   "source": [
    "print(my_str1.isalnum()) #CHECK if all char are numbers\n",
    "print(my_str1.isalpha()) #CHECK if all char in the string are alphabetic\n",
    "print(my_str1.isdigit()) #Test if string contains digits\n",
    "print(my_str1.istitle()) #Test if string contains title words\n",
    "print(my_str1.isupper()) #Test if string contains upper case\n",
    "print(my_str1.islower()) #Test if string contains lower case\n",
    "print(my_str1.isspace()) #Test if string contains spaces\n",
    "print(my_str1.endswith('s')) #Test if string ends with small k\n",
    "print(my_str1.startswith('S')) #Test if string starts with capital K\n"
   ]
  },
  {
   "cell_type": "markdown",
   "id": "fccd8937",
   "metadata": {},
   "source": [
    "Boolean and Logical Operators"
   ]
  },
  {
   "cell_type": "code",
   "execution_count": 9,
   "id": "33ed122d",
   "metadata": {},
   "outputs": [
    {
     "data": {
      "text/plain": [
       "True"
      ]
     },
     "execution_count": 9,
     "metadata": {},
     "output_type": "execute_result"
    }
   ],
   "source": [
    "True and True"
   ]
  },
  {
   "cell_type": "code",
   "execution_count": 10,
   "id": "63797606",
   "metadata": {},
   "outputs": [
    {
     "data": {
      "text/plain": [
       "False"
      ]
     },
     "execution_count": 10,
     "metadata": {},
     "output_type": "execute_result"
    }
   ],
   "source": [
    "True and False"
   ]
  },
  {
   "cell_type": "code",
   "execution_count": 11,
   "id": "8f0fb715",
   "metadata": {},
   "outputs": [
    {
     "data": {
      "text/plain": [
       "True"
      ]
     },
     "execution_count": 11,
     "metadata": {},
     "output_type": "execute_result"
    }
   ],
   "source": [
    "True or True"
   ]
  },
  {
   "cell_type": "code",
   "execution_count": 12,
   "id": "30eb05db",
   "metadata": {},
   "outputs": [
    {
     "data": {
      "text/plain": [
       "True"
      ]
     },
     "execution_count": 12,
     "metadata": {},
     "output_type": "execute_result"
    }
   ],
   "source": [
    "True or False"
   ]
  },
  {
   "cell_type": "code",
   "execution_count": 18,
   "id": "b263a676",
   "metadata": {},
   "outputs": [],
   "source": [
    "example = 'Hello World'\n",
    "new_str = 'Suchu'"
   ]
  },
  {
   "cell_type": "code",
   "execution_count": 19,
   "id": "2d228cbc",
   "metadata": {},
   "outputs": [
    {
     "data": {
      "text/plain": [
       "True"
      ]
     },
     "execution_count": 19,
     "metadata": {},
     "output_type": "execute_result"
    }
   ],
   "source": [
    "new_str.isalpha() or example.isalnum()"
   ]
  },
  {
   "cell_type": "code",
   "execution_count": 20,
   "id": "4d29db53",
   "metadata": {},
   "outputs": [
    {
     "data": {
      "text/plain": [
       "False"
      ]
     },
     "execution_count": 20,
     "metadata": {},
     "output_type": "execute_result"
    }
   ],
   "source": [
    "new_str.isalpha() and example.isalnum()"
   ]
  },
  {
   "cell_type": "markdown",
   "id": "3535beaa",
   "metadata": {},
   "source": [
    "### Lists"
   ]
  },
  {
   "cell_type": "code",
   "execution_count": 21,
   "id": "8056d722",
   "metadata": {},
   "outputs": [
    {
     "data": {
      "text/plain": [
       "list"
      ]
     },
     "execution_count": 21,
     "metadata": {},
     "output_type": "execute_result"
    }
   ],
   "source": [
    "type([])"
   ]
  },
  {
   "cell_type": "code",
   "execution_count": 23,
   "id": "74852af5",
   "metadata": {},
   "outputs": [],
   "source": [
    "lst= []"
   ]
  },
  {
   "cell_type": "code",
   "execution_count": 24,
   "id": "95a8feb7",
   "metadata": {},
   "outputs": [
    {
     "data": {
      "text/plain": [
       "list"
      ]
     },
     "execution_count": 24,
     "metadata": {},
     "output_type": "execute_result"
    }
   ],
   "source": [
    "type(lst)"
   ]
  },
  {
   "cell_type": "code",
   "execution_count": 31,
   "id": "11c1b4cb",
   "metadata": {},
   "outputs": [],
   "source": [
    "lst= ['Science','Maths',100,2.5]"
   ]
  },
  {
   "cell_type": "code",
   "execution_count": 32,
   "id": "64e7aa10",
   "metadata": {},
   "outputs": [
    {
     "data": {
      "text/plain": [
       "4"
      ]
     },
     "execution_count": 32,
     "metadata": {},
     "output_type": "execute_result"
    }
   ],
   "source": [
    "len(lst)"
   ]
  },
  {
   "cell_type": "markdown",
   "id": "6b8f23f4",
   "metadata": {},
   "source": [
    "### Append"
   ]
  },
  {
   "cell_type": "code",
   "execution_count": 34,
   "id": "58fe9db4",
   "metadata": {},
   "outputs": [],
   "source": [
    "lst.append('Sucheta') # adds element at the end of the list"
   ]
  },
  {
   "cell_type": "code",
   "execution_count": 35,
   "id": "51f70e7f",
   "metadata": {},
   "outputs": [
    {
     "data": {
      "text/plain": [
       "100"
      ]
     },
     "execution_count": 35,
     "metadata": {},
     "output_type": "execute_result"
    }
   ],
   "source": [
    "##Indexing in list\n",
    "lst[2]"
   ]
  },
  {
   "cell_type": "code",
   "execution_count": 39,
   "id": "635cecce",
   "metadata": {},
   "outputs": [
    {
     "data": {
      "text/plain": [
       "['Science', 'Maths', 100, 2.5, 'Sucheta', 'Sucheta']"
      ]
     },
     "execution_count": 39,
     "metadata": {},
     "output_type": "execute_result"
    }
   ],
   "source": [
    "lst[:]\n"
   ]
  },
  {
   "cell_type": "code",
   "execution_count": 38,
   "id": "f88f9914",
   "metadata": {},
   "outputs": [
    {
     "data": {
      "text/plain": [
       "['Maths', 100, 2.5]"
      ]
     },
     "execution_count": 38,
     "metadata": {},
     "output_type": "execute_result"
    }
   ],
   "source": [
    "lst[1:4]"
   ]
  },
  {
   "cell_type": "code",
   "execution_count": 40,
   "id": "898c2daa",
   "metadata": {},
   "outputs": [],
   "source": [
    "lst.append([\"John\",\"Cena\"])"
   ]
  },
  {
   "cell_type": "code",
   "execution_count": 41,
   "id": "aa9d2578",
   "metadata": {},
   "outputs": [
    {
     "data": {
      "text/plain": [
       "['Science', 'Maths', 100, 2.5, 'Sucheta', 'Sucheta', ['John', 'Cena']]"
      ]
     },
     "execution_count": 41,
     "metadata": {},
     "output_type": "execute_result"
    }
   ],
   "source": [
    "lst"
   ]
  },
  {
   "cell_type": "markdown",
   "id": "5f5ce288",
   "metadata": {},
   "source": [
    "### Insert\n"
   ]
  },
  {
   "cell_type": "code",
   "execution_count": 42,
   "id": "1f43622a",
   "metadata": {},
   "outputs": [],
   "source": [
    "lst.insert(1,'Naik')"
   ]
  },
  {
   "cell_type": "code",
   "execution_count": 43,
   "id": "60836f0d",
   "metadata": {},
   "outputs": [
    {
     "data": {
      "text/plain": [
       "['Science', 'Naik', 'Maths', 100, 2.5, 'Sucheta', 'Sucheta', ['John', 'Cena']]"
      ]
     },
     "execution_count": 43,
     "metadata": {},
     "output_type": "execute_result"
    }
   ],
   "source": [
    "lst"
   ]
  },
  {
   "cell_type": "markdown",
   "id": "71be74dc",
   "metadata": {},
   "source": [
    "### Extend Method"
   ]
  },
  {
   "cell_type": "code",
   "execution_count": 44,
   "id": "8b95c878",
   "metadata": {},
   "outputs": [],
   "source": [
    "new_list=[1,2,3,4,5,6,7,8]"
   ]
  },
  {
   "cell_type": "code",
   "execution_count": 45,
   "id": "a76facf4",
   "metadata": {},
   "outputs": [],
   "source": [
    "new_list.extend([100,101,102])"
   ]
  },
  {
   "cell_type": "code",
   "execution_count": 46,
   "id": "de63e326",
   "metadata": {},
   "outputs": [
    {
     "data": {
      "text/plain": [
       "[1, 2, 3, 4, 5, 6, 7, 8, 100, 101, 102]"
      ]
     },
     "execution_count": 46,
     "metadata": {},
     "output_type": "execute_result"
    }
   ],
   "source": [
    "new_list"
   ]
  },
  {
   "cell_type": "markdown",
   "id": "85df286f",
   "metadata": {},
   "source": [
    "### Various Operations that we can perform in List"
   ]
  },
  {
   "cell_type": "code",
   "execution_count": 49,
   "id": "2c2f707e",
   "metadata": {},
   "outputs": [],
   "source": [
    "new_list=[1, 2, 3, 4, 5, 6, 7, 8, 100, 101, 102]\n"
   ]
  },
  {
   "cell_type": "code",
   "execution_count": 50,
   "id": "d1aa67b6",
   "metadata": {},
   "outputs": [
    {
     "data": {
      "text/plain": [
       "339"
      ]
     },
     "execution_count": 50,
     "metadata": {},
     "output_type": "execute_result"
    }
   ],
   "source": [
    "sum(new_list)"
   ]
  },
  {
   "cell_type": "code",
   "execution_count": 51,
   "id": "66391b04",
   "metadata": {},
   "outputs": [
    {
     "data": {
      "text/plain": [
       "102"
      ]
     },
     "execution_count": 51,
     "metadata": {},
     "output_type": "execute_result"
    }
   ],
   "source": [
    "## Pop method\n",
    "new_list.pop()"
   ]
  },
  {
   "cell_type": "code",
   "execution_count": 52,
   "id": "5acbb58f",
   "metadata": {},
   "outputs": [
    {
     "data": {
      "text/plain": [
       "[1, 2, 3, 4, 5, 6, 7, 8, 100, 101]"
      ]
     },
     "execution_count": 52,
     "metadata": {},
     "output_type": "execute_result"
    }
   ],
   "source": [
    "new_list"
   ]
  },
  {
   "cell_type": "code",
   "execution_count": 53,
   "id": "27d84885",
   "metadata": {},
   "outputs": [
    {
     "data": {
      "text/plain": [
       "1"
      ]
     },
     "execution_count": 53,
     "metadata": {},
     "output_type": "execute_result"
    }
   ],
   "source": [
    "new_list.pop(0)"
   ]
  },
  {
   "cell_type": "code",
   "execution_count": 54,
   "id": "cb2f1535",
   "metadata": {},
   "outputs": [
    {
     "data": {
      "text/plain": [
       "[2, 3, 4, 5, 6, 7, 8, 100, 101]"
      ]
     },
     "execution_count": 54,
     "metadata": {},
     "output_type": "execute_result"
    }
   ],
   "source": [
    "new_list"
   ]
  },
  {
   "cell_type": "code",
   "execution_count": 68,
   "id": "139c80d6",
   "metadata": {},
   "outputs": [
    {
     "data": {
      "text/plain": [
       "[2, 3, 4, 5, 6, 7, 8, 100, 101, 2, 3, 4, 5, 6, 7, 8, 100, 101]"
      ]
     },
     "execution_count": 68,
     "metadata": {},
     "output_type": "execute_result"
    }
   ],
   "source": [
    "new_list*2"
   ]
  },
  {
   "cell_type": "markdown",
   "id": "8a989801",
   "metadata": {},
   "source": [
    "### count(): Calculates total occurence of given element in List"
   ]
  },
  {
   "cell_type": "code",
   "execution_count": 55,
   "id": "64f3dd1a",
   "metadata": {},
   "outputs": [
    {
     "data": {
      "text/plain": [
       "0"
      ]
     },
     "execution_count": 55,
     "metadata": {},
     "output_type": "execute_result"
    }
   ],
   "source": [
    "new_list.count(1)"
   ]
  },
  {
   "cell_type": "code",
   "execution_count": 56,
   "id": "d7118ff4",
   "metadata": {},
   "outputs": [
    {
     "data": {
      "text/plain": [
       "1"
      ]
     },
     "execution_count": 56,
     "metadata": {},
     "output_type": "execute_result"
    }
   ],
   "source": [
    "new_list.count(100)"
   ]
  },
  {
   "cell_type": "code",
   "execution_count": 57,
   "id": "3a3802d0",
   "metadata": {},
   "outputs": [
    {
     "data": {
      "text/plain": [
       "9"
      ]
     },
     "execution_count": 57,
     "metadata": {},
     "output_type": "execute_result"
    }
   ],
   "source": [
    "#length: Calculates length of list\n",
    "len(new_list)"
   ]
  },
  {
   "cell_type": "code",
   "execution_count": 60,
   "id": "91ce92ca",
   "metadata": {},
   "outputs": [
    {
     "data": {
      "text/plain": [
       "7"
      ]
     },
     "execution_count": 60,
     "metadata": {},
     "output_type": "execute_result"
    }
   ],
   "source": [
    "#index: Returns the index of first occurence.Start and End index are not necessary parameters\n",
    "new_list.index(100)"
   ]
  },
  {
   "cell_type": "code",
   "execution_count": 65,
   "id": "89e62b86",
   "metadata": {},
   "outputs": [
    {
     "data": {
      "text/plain": [
       "6"
      ]
     },
     "execution_count": 65,
     "metadata": {},
     "output_type": "execute_result"
    }
   ],
   "source": [
    "new_list.index(8,1,)"
   ]
  },
  {
   "cell_type": "code",
   "execution_count": 66,
   "id": "37a8b76a",
   "metadata": {},
   "outputs": [
    {
     "data": {
      "text/plain": [
       "2"
      ]
     },
     "execution_count": 66,
     "metadata": {},
     "output_type": "execute_result"
    }
   ],
   "source": [
    "#Min \n",
    "min(new_list)"
   ]
  },
  {
   "cell_type": "code",
   "execution_count": 67,
   "id": "96e5ed14",
   "metadata": {},
   "outputs": [
    {
     "data": {
      "text/plain": [
       "101"
      ]
     },
     "execution_count": 67,
     "metadata": {},
     "output_type": "execute_result"
    }
   ],
   "source": [
    "#Max\n",
    "max(new_list)"
   ]
  },
  {
   "cell_type": "code",
   "execution_count": null,
   "id": "bcc650ed",
   "metadata": {},
   "outputs": [],
   "source": []
  }
 ],
 "metadata": {
  "kernelspec": {
   "display_name": "Python 3",
   "language": "python",
   "name": "python3"
  },
  "language_info": {
   "codemirror_mode": {
    "name": "ipython",
    "version": 3
   },
   "file_extension": ".py",
   "mimetype": "text/x-python",
   "name": "python",
   "nbconvert_exporter": "python",
   "pygments_lexer": "ipython3",
   "version": "3.8.8"
  }
 },
 "nbformat": 4,
 "nbformat_minor": 5
}
